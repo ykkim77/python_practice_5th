{
  "cells": [
    {
      "cell_type": "markdown",
      "metadata": {
        "id": "view-in-github",
        "colab_type": "text"
      },
      "source": [
        "<a href=\"https://colab.research.google.com/github/ykkim77/python_practice_5th/blob/main/python_practice_5th.ipynb\" target=\"_parent\"><img src=\"https://colab.research.google.com/assets/colab-badge.svg\" alt=\"Open In Colab\"/></a>"
      ]
    },
    {
      "cell_type": "markdown",
      "metadata": {
        "id": "_17Zhg4BXgzQ"
      },
      "source": [
        "# 원형 연결 리스트"
      ]
    },
    {
      "cell_type": "markdown",
      "metadata": {
        "id": "Q_jsQatEZHj0"
      },
      "source": [
        "## 원형 연결 리스트 핵심 코드 구현"
      ]
    },
    {
      "cell_type": "markdown",
      "metadata": {
        "id": "F16a2uSpXscY"
      },
      "source": [
        "### 원형 연결리스트 정의"
      ]
    },
    {
      "cell_type": "code",
      "execution_count": 20,
      "metadata": {
        "id": "gJHLDQa3Xat-"
      },
      "outputs": [],
      "source": [
        "class Node() :\n",
        "\tdef __init__ (self) :\n",
        "\t\tself.data = None\n",
        "\t\tself.link = None"
      ]
    },
    {
      "cell_type": "markdown",
      "metadata": {
        "id": "3KOQIqLRZaed"
      },
      "source": [
        "- 첫번째 노드 생성"
      ]
    },
    {
      "cell_type": "code",
      "execution_count": 21,
      "metadata": {
        "id": "lDjoQ5CQZcKM"
      },
      "outputs": [],
      "source": [
        "node1 = Node()\n",
        "\n",
        "node1.data = \"서울\"\n",
        "head = node1\n",
        "\n",
        "node1.link = node1"
      ]
    },
    {
      "cell_type": "code",
      "execution_count": 22,
      "metadata": {
        "id": "8xOvHTuBXscc",
        "colab": {
          "base_uri": "https://localhost:8080/"
        },
        "outputId": "785ba3ac-49d2-437e-daf9-aad6678f6aae"
      },
      "outputs": [
        {
          "output_type": "stream",
          "name": "stdout",
          "text": [
            "서울\n",
            "서울\n",
            "서울\n"
          ]
        }
      ],
      "source": [
        "print(node1.data)\n",
        "print(node1.link.data)\n",
        "print(node1.link.link.data)"
      ]
    },
    {
      "cell_type": "markdown",
      "metadata": {
        "id": "jtumvG0bXscd"
      },
      "source": [
        "- 두번째 노드 생성"
      ]
    },
    {
      "cell_type": "code",
      "execution_count": 23,
      "metadata": {
        "id": "FAZaCDLoXsce"
      },
      "outputs": [],
      "source": [
        "node2 = Node()\n",
        "node2.data = \"대구\"\n",
        "node1.link = node2\n",
        "\n",
        "node2.link = node1"
      ]
    },
    {
      "cell_type": "code",
      "execution_count": 24,
      "metadata": {
        "id": "7nTu_99nXscf",
        "colab": {
          "base_uri": "https://localhost:8080/"
        },
        "outputId": "4b6980b3-70a2-4027-c9dc-731b5b445a63"
      },
      "outputs": [
        {
          "output_type": "stream",
          "name": "stdout",
          "text": [
            "서울\n",
            "대구\n",
            "서울\n",
            "대구\n"
          ]
        }
      ],
      "source": [
        "print(node1.data)\n",
        "print(node1.link.data)\n",
        "print(node1.link.link.data)\n",
        "print(node1.link.link.link.data)"
      ]
    },
    {
      "cell_type": "markdown",
      "metadata": {
        "id": "o1CmMWntXscf"
      },
      "source": [
        "- 세번째 노드 생성"
      ]
    },
    {
      "cell_type": "code",
      "execution_count": 25,
      "metadata": {
        "id": "aUG7xgL_Xscg"
      },
      "outputs": [],
      "source": [
        "node3 = Node()\n",
        "node3.data = \"부산\"\n",
        "node2.link = node3\n",
        "\n",
        "node3.link = node1"
      ]
    },
    {
      "cell_type": "markdown",
      "metadata": {
        "id": "IkQbSTqhXscg"
      },
      "source": [
        "- 데이터가 3개인 원형 연결 리스트 출력"
      ]
    },
    {
      "cell_type": "code",
      "execution_count": 26,
      "metadata": {
        "id": "Fi5XmevDXsch",
        "colab": {
          "base_uri": "https://localhost:8080/"
        },
        "outputId": "db1bf9e0-4102-411d-a5e7-c27fb9c19833"
      },
      "outputs": [
        {
          "output_type": "stream",
          "name": "stdout",
          "text": [
            "서울 대구 부산 서울 "
          ]
        }
      ],
      "source": [
        "print(node1.data, end = ' ')\n",
        "print(node1.link.data, end = ' ')\n",
        "print(node1.link.link.data, end = ' ')\n",
        "print(node1.link.link.link.data, end = ' ')"
      ]
    },
    {
      "cell_type": "markdown",
      "metadata": {
        "id": "wUhvTdvkXsch"
      },
      "source": [
        "- 원형 연결 리스트 출력 함수"
      ]
    },
    {
      "cell_type": "code",
      "execution_count": 27,
      "metadata": {
        "id": "QIW4WWQAXsci",
        "colab": {
          "base_uri": "https://localhost:8080/"
        },
        "outputId": "bacdd22c-1620-4f88-b886-fd839f5bd265"
      },
      "outputs": [
        {
          "output_type": "stream",
          "name": "stdout",
          "text": [
            "서울 대구 부산 "
          ]
        }
      ],
      "source": [
        "current = node1    # current 노드 지정\n",
        "print(current.data, end = ' ')\n",
        "while current.link != node1:     # current의 링크가 node1을 가리킬때 까지 반복\n",
        "    current = current.link             # 현재 노드의 다음노드가 current로 지정\n",
        "    print(current.data, end= ' ')  # current의 데이터 출력\n"
      ]
    },
    {
      "cell_type": "markdown",
      "metadata": {
        "id": "JeZrBWvbXsci"
      },
      "source": [
        "- 첫번째 자리에 데이터 삽입"
      ]
    },
    {
      "cell_type": "code",
      "execution_count": 28,
      "metadata": {
        "id": "MjshdH4BXsci"
      },
      "outputs": [],
      "source": [
        "newNode = Node()\n",
        "newNode.link = head\n",
        "newNode.data = '파주'"
      ]
    },
    {
      "cell_type": "code",
      "execution_count": 29,
      "metadata": {
        "id": "SwINbBX-Xscj",
        "colab": {
          "base_uri": "https://localhost:8080/"
        },
        "outputId": "19239520-fb21-4ad0-88af-49ad3354bd75"
      },
      "outputs": [
        {
          "output_type": "stream",
          "name": "stdout",
          "text": [
            "서울 파주 "
          ]
        }
      ],
      "source": [
        "last = head    # 마지막 노드를 첫 번째 노드로 우선 지정\n",
        "\n",
        "print(last.data, end = ' ')\n",
        "while last.link != head:     # 마지막 노드를 찾을때 까지 반복\n",
        "    last = last.link             # last 노드의 링크(다음노드)가 현재의 last가 되도록 함\n",
        "last.link = newNode\n",
        "head = newNode  \n",
        "print(head.data, end= ' ')  # 새롭게 첫 데이터로 추가한 노드를 출력해 테스트해 봄"
      ]
    },
    {
      "cell_type": "markdown",
      "metadata": {
        "id": "F8NXHifxXscj"
      },
      "source": [
        "- 원형 리스트 출력"
      ]
    },
    {
      "cell_type": "code",
      "execution_count": 12,
      "metadata": {
        "id": "we4-xN9gXsck",
        "colab": {
          "base_uri": "https://localhost:8080/"
        },
        "outputId": "d3ed8715-6d10-4922-b412-b279a3833d86"
      },
      "outputs": [
        {
          "output_type": "stream",
          "name": "stdout",
          "text": [
            "파주 서울 대구 부산 "
          ]
        }
      ],
      "source": [
        "current = head    # current 노드 지정\n",
        "print(current.data, end = ' ')\n",
        "while current.link != head:     # current의 링크가 없을때 까지 반복\n",
        "    current = current.link             # 현재 노드의 다음노드가 current로 지정\n",
        "    print(current.data, end= ' ')  # current의 데이터 출력\n"
      ]
    },
    {
      "cell_type": "markdown",
      "metadata": {
        "id": "s6lrNrPdXsck"
      },
      "source": [
        "- 중간에 데이터 삽입"
      ]
    },
    {
      "cell_type": "code",
      "execution_count": 30,
      "metadata": {
        "id": "NHzshhzJXsck"
      },
      "outputs": [],
      "source": [
        "current = head\n",
        "\n",
        "while current.link != head: \n",
        "    pre = current      # pre 노드를 한 칸씩 이동\n",
        "    current = current.link    # current 노드를 한 칸씩 이동\n",
        "    if current.data == '부산' :    # current 노드가 부산이라면~\n",
        "        node = Node()                  # 새로운 노드 생성\n",
        "        node.data = '포항'            # 새로운 노드의 데이터에 ‘포항’ 입력\n",
        "        node.link = current     # 새로운 노드의 링크는 current 노드를 가리킴\n",
        "        pre.link = node            # pre 노드의 링크는 새로운 노드를 가리킴   \n"
      ]
    },
    {
      "cell_type": "markdown",
      "metadata": {
        "id": "wsOaUNXxXscl"
      },
      "source": [
        "- 원형 리스트 출력"
      ]
    },
    {
      "cell_type": "code",
      "execution_count": 31,
      "metadata": {
        "id": "6rf3zY2LXscl",
        "colab": {
          "base_uri": "https://localhost:8080/"
        },
        "outputId": "38dfdadc-517d-465f-b641-2325ce1c636a"
      },
      "outputs": [
        {
          "output_type": "stream",
          "name": "stdout",
          "text": [
            "파주 서울 대구 포항 부산 "
          ]
        }
      ],
      "source": [
        "current = head    # current 노드 지정\n",
        "print(current.data, end = ' ')\n",
        "while current.link != head:     # current의 링크가 없을때 까지 반복\n",
        "    current = current.link             # 현재 노드의 다음노드가 current로 지정\n",
        "    print(current.data, end= ' ')  # current의 데이터 출력"
      ]
    },
    {
      "cell_type": "markdown",
      "metadata": {
        "id": "cSoSfL7eXscl"
      },
      "source": [
        "- 마지막 자리에 데이터 삽입"
      ]
    },
    {
      "cell_type": "code",
      "execution_count": 32,
      "metadata": {
        "id": "_GAhQa59Xscl"
      },
      "outputs": [],
      "source": [
        "current = head\n",
        "while current.link != head:     # current의 링크가 없을때 까지 반복\n",
        "    current = current.link             # 현재 노드의 다음노드가 current로 지정\n",
        "\n",
        "newNode = Node()\n",
        "newNode.data = \"제주\"\n",
        "current.link = newNode\n",
        "newNode.link = head"
      ]
    },
    {
      "cell_type": "code",
      "execution_count": 33,
      "metadata": {
        "id": "dczMJ7blXscl",
        "colab": {
          "base_uri": "https://localhost:8080/"
        },
        "outputId": "3aeae2a5-9c94-4c33-ddd2-862b1cbb71ff"
      },
      "outputs": [
        {
          "output_type": "stream",
          "name": "stdout",
          "text": [
            "파주 서울 대구 포항 부산 제주 "
          ]
        }
      ],
      "source": [
        "current = head    # current 노드 지정\n",
        "print(current.data, end = ' ')\n",
        "while current.link != head:     # current의 링크가 없을때 까지 반복\n",
        "    current = current.link             # 현재 노드의 다음노드가 current로 지정\n",
        "    print(current.data, end= ' ')  # current의 데이터 출력"
      ]
    },
    {
      "cell_type": "markdown",
      "metadata": {
        "id": "RgCVM3fsXscm"
      },
      "source": [
        "- 데이터 삭제 : 첫번째 노드 삭제"
      ]
    },
    {
      "cell_type": "code",
      "execution_count": 34,
      "metadata": {
        "id": "iUGByRjrXscm"
      },
      "outputs": [],
      "source": [
        "current = head\n",
        "head = head.link"
      ]
    },
    {
      "cell_type": "code",
      "execution_count": 35,
      "metadata": {
        "id": "7bqnHpSwXscm"
      },
      "outputs": [],
      "source": [
        "last = head    # current 노드 지정\n",
        "\n",
        "while last.link != current:     # current의 링크가 없을때 까지 반복\n",
        "    last = last.link             # 현재 노드의 다음노드가 current로 지정\n",
        "\n",
        "last.link = head\n",
        "del(current)"
      ]
    },
    {
      "cell_type": "markdown",
      "metadata": {
        "id": "2N2dj0otXscm"
      },
      "source": [
        "- 원형 리스트 출력"
      ]
    },
    {
      "cell_type": "code",
      "execution_count": 36,
      "metadata": {
        "id": "5phegqnhXscn",
        "colab": {
          "base_uri": "https://localhost:8080/"
        },
        "outputId": "6c0bc7ff-8448-4e94-f58b-557bc27074f8"
      },
      "outputs": [
        {
          "output_type": "stream",
          "name": "stdout",
          "text": [
            "서울 대구 포항 부산 제주 "
          ]
        }
      ],
      "source": [
        "current = head    # current 노드 지정\n",
        "print(current.data, end = ' ')\n",
        "while current.link != head:     # current의 링크가 없을때 까지 반복\n",
        "    current = current.link             # 현재 노드의 다음노드가 current로 지정\n",
        "    print(current.data, end= ' ')  # current의 데이터 출력"
      ]
    },
    {
      "cell_type": "markdown",
      "metadata": {
        "id": "kW0-0sfqXscn"
      },
      "source": [
        "- 첫번째 노드 외 삭제"
      ]
    },
    {
      "cell_type": "code",
      "execution_count": 39,
      "metadata": {
        "id": "CpsEhp6sXscn"
      },
      "outputs": [],
      "source": [
        "current = head\n",
        "\n",
        "while current.link != head:\n",
        "    pre = current\n",
        "    current = current.link\n",
        "    if current.data == \"대구\":\n",
        "        pre.link = current.link\n",
        "        del(current)"
      ]
    },
    {
      "cell_type": "markdown",
      "metadata": {
        "id": "pkSSmvkeXscn"
      },
      "source": [
        "- 원형 리스트 출력"
      ]
    },
    {
      "cell_type": "code",
      "execution_count": 40,
      "metadata": {
        "id": "rekIHuRTXsco",
        "colab": {
          "base_uri": "https://localhost:8080/"
        },
        "outputId": "bd381e2e-bdfc-4ee7-8e88-22b89694fcca"
      },
      "outputs": [
        {
          "output_type": "stream",
          "name": "stdout",
          "text": [
            "서울 포항 부산 제주 "
          ]
        }
      ],
      "source": [
        "current = head    # current 노드 지정\n",
        "print(current.data, end = ' ')\n",
        "while current.link != head:     # current의 링크가 없을때 까지 반복\n",
        "    current = current.link             # 현재 노드의 다음노드가 current로 지정\n",
        "    print(current.data, end= ' ')  # current의 데이터 출력"
      ]
    },
    {
      "cell_type": "markdown",
      "metadata": {
        "id": "tcbPZp1OXsco"
      },
      "source": [
        "- 데이터 검색 구현"
      ]
    },
    {
      "cell_type": "code",
      "execution_count": 41,
      "metadata": {
        "id": "j6PpKkDbXsco",
        "colab": {
          "base_uri": "https://localhost:8080/"
        },
        "outputId": "d47ef078-14ac-479b-cfd3-a4007ba4fc7d"
      },
      "outputs": [
        {
          "output_type": "stream",
          "name": "stdout",
          "text": [
            "부산\n"
          ]
        }
      ],
      "source": [
        "current = head\n",
        "if current.data == '부산':\n",
        "    print(current.data)\n",
        "while current.link != head:\n",
        "    current = current.link\n",
        "    if current.data == '부산':\n",
        "        print(current.data)\n"
      ]
    },
    {
      "cell_type": "code",
      "execution_count": 42,
      "metadata": {
        "id": "g6JHH0KqXsco"
      },
      "outputs": [],
      "source": [
        "del(head)\n",
        "del(current)\n",
        "del(pre)"
      ]
    },
    {
      "cell_type": "markdown",
      "metadata": {
        "id": "6s0-PMxPXsco"
      },
      "source": [
        "- 연결 리스트를 함수로 구현하기"
      ]
    },
    {
      "cell_type": "code",
      "execution_count": 43,
      "metadata": {
        "id": "0CnEkklmXscp"
      },
      "outputs": [],
      "source": [
        "class Node() :\n",
        "\tdef __init__ (self) :\n",
        "\t\tself.data = None\n",
        "\t\tself.link = None\n",
        "\n",
        "def printNodes(start):\n",
        "\tcurrent = start\n",
        "\tif current.link == None :\n",
        "\t\treturn\n",
        "\tprint(current.data, end=' ')\n",
        "\twhile current.link != start:\n",
        "\t\tcurrent = current.link\n",
        "\t\tprint(current.data, end=' ')\n",
        "\tprint()\n",
        "\n",
        "def insertNode(findData, insertData) :\n",
        "\tglobal memory, head, current, pre\n",
        "\n",
        "\tif head.data == findData :\t\t# 첫 번째 노드 삽입\n",
        "\t\tnode = Node()\n",
        "\t\tnode.data = insertData\n",
        "\t\tnode.link = head\n",
        "\t\tlast = head\t\t# 마지막 노드를 첫 번째 노드로 우선 지정\n",
        "\t\twhile last.link != head :\t# 마지막 노드를 찾으면 반복 종료\n",
        "\t\t\tlast = last.link\t# last를 다음 노드로 변경\n",
        "\t\tlast.link = node\t\t# 마지막 노드의 링크에 새 노드 지정\n",
        "\t\thead = node\n",
        "\t\treturn\n",
        "\n",
        "\tcurrent = head\n",
        "\twhile current.link != head :\t\t# 중간 노드 삽입\n",
        "\t\tpre = current\n",
        "\t\tcurrent = current.link\n",
        "\t\tif current.data == findData :\n",
        "\t\t\tnode = Node()\n",
        "\t\t\tnode.data = insertData\n",
        "\t\t\tnode.link = current\n",
        "\t\t\tpre.link = node\n",
        "\t\t\treturn\n",
        "\n",
        "\tnode = Node()\t\t\t # 마지막 노드 삽입\n",
        "\tnode.data = insertData\n",
        "\tcurrent.link = node\n",
        "\tnode.link = head\n",
        "\n",
        "def findNode(findData) :\n",
        "\tglobal memory, head, current, pre\n",
        "\n",
        "\tcurrent = head\n",
        "\tif current.data == findData :\n",
        "\t\treturn current\n",
        "\twhile current.link != head :\n",
        "\t\tcurrent = current.link\n",
        "\t\tif current.data == findData :\n",
        "\t\t\treturn current\n",
        "\treturn Node()\t# 빈 노드 반환\n",
        "\n",
        "def deleteNode(deleteData) :\n",
        "\tglobal memory, head, current, pre\n",
        "\n",
        "\tif head.data == deleteData :         # 첫 번째 노드 삭제\n",
        "\t\tcurrent = head\n",
        "\t\thead = head.link\n",
        "\t\tdel(current)\n",
        "\t\treturn\n",
        "\n",
        "\tcurrent = head                          # 첫 번째  외 노드 삭제\n",
        "\twhile current.link != head :\n",
        "\t\tpre = current\n",
        "\t\tcurrent = current.link\n",
        "\t\tif current.data == deleteData :\n",
        "\t\t\tpre.link = current.link\n",
        "\t\t\tdel(current)\n",
        "\t\t\treturn"
      ]
    },
    {
      "cell_type": "code",
      "execution_count": 44,
      "metadata": {
        "id": "1lcryyS5Xscp",
        "colab": {
          "base_uri": "https://localhost:8080/"
        },
        "outputId": "bb4776e7-91f6-458e-8501-c9c5bcdae62a"
      },
      "outputs": [
        {
          "output_type": "stream",
          "name": "stdout",
          "text": [
            "서울 대전 부산 \n",
            "파주 서울 천안 대전 부산 \n"
          ]
        }
      ],
      "source": [
        "head, current, pre = None, None, None\n",
        "memory = []\n",
        "dataArray = [\"서울\", \"대전\", \"부산\"]\n",
        "\n",
        "node = Node()\t\t\t# 첫 번째 노드\n",
        "node.data = dataArray[0]\n",
        "head = node\n",
        "node.link = head\n",
        "memory.append(node)\n",
        "\n",
        "for data in dataArray[1:] :\t\t# 두 번째 노드부터\n",
        "    pre = node\n",
        "    node = Node()\n",
        "    node.data = data\n",
        "    pre.link = node\n",
        "    node.link = head\n",
        "    memory.append(node)\n",
        "\n",
        "printNodes(head)\n",
        "findNode('대전')\n",
        "insertNode('대전','천안')\n",
        "insertNode('서울','파주')\n",
        "printNodes(head)\n",
        "deleteNode('서울')\n"
      ]
    }
  ],
  "metadata": {
    "colab": {
      "collapsed_sections": [],
      "name": "python_practice_5th.ipynb",
      "provenance": [],
      "include_colab_link": true
    },
    "kernelspec": {
      "display_name": "Python 3",
      "name": "python3"
    },
    "language_info": {
      "codemirror_mode": {
        "name": "ipython",
        "version": 3
      },
      "file_extension": ".py",
      "mimetype": "text/x-python",
      "name": "python",
      "nbconvert_exporter": "python",
      "pygments_lexer": "ipython3",
      "version": "3.9.4"
    }
  },
  "nbformat": 4,
  "nbformat_minor": 0
}